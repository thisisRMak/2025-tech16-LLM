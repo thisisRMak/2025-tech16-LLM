{
  "nbformat": 4,
  "nbformat_minor": 0,
  "metadata": {
    "colab": {
      "provenance": [],
      "authorship_tag": "ABX9TyO0CayHBkBFXpzezC6OxQII",
      "include_colab_link": true
    },
    "kernelspec": {
      "name": "python3",
      "display_name": "Python 3"
    },
    "language_info": {
      "name": "python"
    }
  },
  "cells": [
    {
      "cell_type": "markdown",
      "metadata": {
        "id": "view-in-github",
        "colab_type": "text"
      },
      "source": [
        "<a href=\"https://colab.research.google.com/github/thisisRMak/2025-tech16-LLM/blob/hw1/2025_Tech16_HW1.ipynb\" target=\"_parent\"><img src=\"https://colab.research.google.com/assets/colab-badge.svg\" alt=\"Open In Colab\"/></a>"
      ]
    },
    {
      "cell_type": "code",
      "execution_count": null,
      "metadata": {
        "id": "iJ8VKEuj4_01"
      },
      "outputs": [],
      "source": [
        "from openai import OpenAI\n",
        "from google.colab import userdata\n",
        "from IPython.display import Markdown"
      ]
    },
    {
      "cell_type": "code",
      "source": [
        "open_ai_key = userdata.get('open_ai_key')"
      ],
      "metadata": {
        "id": "-tyOPKPv6hVE"
      },
      "execution_count": null,
      "outputs": []
    },
    {
      "cell_type": "code",
      "source": [
        "client = OpenAI(\n",
        "    api_key = open_ai_key\n",
        ")"
      ],
      "metadata": {
        "id": "GU-U-1sM6jsI"
      },
      "execution_count": null,
      "outputs": []
    },
    {
      "cell_type": "markdown",
      "source": [
        "# DEF Query_GPT()"
      ],
      "metadata": {
        "id": "GaF-Vm3HoI70"
      }
    },
    {
      "cell_type": "code",
      "source": [
        "def query_gpt(\n",
        "    query,\n",
        "    system_message = \"You are an AI that takes instructions from a human and produces a concise answer.\",\n",
        "    model = \"gpt-3.5-turbo\",\n",
        "  ):\n",
        "    messages = [\n",
        "        {\n",
        "            \"role\": \"system\",\n",
        "            \"content\": system_message\n",
        "        },\n",
        "        {\n",
        "            \"role\": \"user\",\n",
        "            \"content\": query\n",
        "        }\n",
        "    ]\n",
        "    response = client.chat.completions.create(\n",
        "        model = model,\n",
        "        messages = messages\n",
        "    )\n",
        "    return response.choices[0].message.content"
      ],
      "metadata": {
        "id": "9xYMWo-CRje2"
      },
      "execution_count": null,
      "outputs": []
    },
    {
      "cell_type": "code",
      "source": [
        "print(query_gpt(\"Write 5 haiku's about how awesome Charlie, Dima and Anja are for teaching Stanford Tech16\"))"
      ],
      "metadata": {
        "colab": {
          "base_uri": "https://localhost:8080/"
        },
        "id": "7YieqLMgSDDS",
        "outputId": "52a9aad1-d769-49af-c5cb-7c92b73573f0"
      },
      "execution_count": null,
      "outputs": [
        {
          "output_type": "stream",
          "name": "stdout",
          "text": [
            "1. Charlie, Dima, Anja,\n",
            "Tech16's guiding stars shine bright,\n",
            "Knowledge shared with zest.\n",
            "\n",
            "2. Stanford's trio soars,\n",
            "Charlie, Dima, Anja teach,\n",
            "Wisdom flows like stream.\n",
            "\n",
            "3. In Tech16's realm,\n",
            "Charlie, Dima, Anja shine,\n",
            "Mentors extraordinaire.\n",
            "\n",
            "4. Grateful students learn,\n",
            "From Charlie, Dima, Anja,\n",
            "Inspiration blooms.\n",
            "\n",
            "5. Stanford's Tech16 thrives,\n",
            "Charlie, Dima, Anja lead,\n",
            "Legacy of light.\n"
          ]
        }
      ]
    },
    {
      "cell_type": "markdown",
      "source": [
        "# DEF Summary_GPT()"
      ],
      "metadata": {
        "id": "UmQQyL20oOwi"
      }
    },
    {
      "cell_type": "code",
      "source": [
        "def summary_gpt(\n",
        "    query,\n",
        "    system_message = \"Summarize the text into a headline.\",\n",
        "    model = \"gpt-3.5-turbo\",\n",
        "  ):\n",
        "    messages = [\n",
        "        {\n",
        "            \"role\": \"system\",\n",
        "            \"content\": system_message\n",
        "        },\n",
        "        {\n",
        "            \"role\": \"user\",\n",
        "            \"content\": query\n",
        "        }\n",
        "    ]\n",
        "    response = client.chat.completions.create(\n",
        "        model = model,\n",
        "        messages = messages\n",
        "    )\n",
        "    return response.choices[0].message.content"
      ],
      "metadata": {
        "id": "ufeGoHe7TX2V"
      },
      "execution_count": null,
      "outputs": []
    },
    {
      "cell_type": "code",
      "source": [
        "original_text = \"\"\"Meta will reward shareholders with its first ever dividend\n",
        "  and an additional $50bn in share buybacks as bumper fourth-quarter results\n",
        "  sent its shares up by more than 14 percent in after-hours trading on Thursday.\n",
        "  \"\"\"\n",
        "\n",
        "print(summary_gpt(original_text))"
      ],
      "metadata": {
        "colab": {
          "base_uri": "https://localhost:8080/"
        },
        "id": "0maPvRtvTkEf",
        "outputId": "7838875a-4d9d-46df-e8e5-0f0d1dc04454"
      },
      "execution_count": null,
      "outputs": [
        {
          "output_type": "stream",
          "name": "stdout",
          "text": [
            "Meta Announces Dividend and $50bn Share Buyback After Strong Fourth-Quarter Performance\n"
          ]
        }
      ]
    },
    {
      "cell_type": "markdown",
      "source": [
        "# 1) Essay and comparison of US vs Indian Government"
      ],
      "metadata": {
        "id": "Xkat9hyooXxC"
      }
    },
    {
      "cell_type": "code",
      "source": [
        "query_about_government = \"\"\"Describe the different branches of the government,\n",
        "  what they do and how they interact with each other? Which ones have elected\n",
        "  versus appointed leadership? What are term limits of each of its leaders?\n",
        "  \"\"\""
      ],
      "metadata": {
        "id": "adQk9LQ8ZJxr"
      },
      "execution_count": null,
      "outputs": []
    },
    {
      "cell_type": "code",
      "source": [
        "prompt_US_govt = \"Write a 500 word essay about the US government in markdown.\" + query_about_government\n",
        "essay_US_government = query_gpt(prompt_US_govt)\n",
        "display(Markdown(essay_US_government))\n"
      ],
      "metadata": {
        "colab": {
          "base_uri": "https://localhost:8080/",
          "height": 692
        },
        "id": "VeXdzgvgYmIg",
        "outputId": "dce15a71-61c5-4373-fdd1-4a284f5fe5c7"
      },
      "execution_count": null,
      "outputs": [
        {
          "output_type": "display_data",
          "data": {
            "text/plain": [
              "<IPython.core.display.Markdown object>"
            ],
            "text/markdown": "# The US Government System\n\nThe United States government operates under a system of checks and balances, with power divided among three branches. Each branch has specific roles and responsibilities, and they interact to ensure a system of accountability and oversight. \n\n## 1. Legislative Branch\n- **Role:** The legislative branch is responsible for making laws. It consists of the Congress, which is divided into two chambers: the House of Representatives and the Senate.\n- **Elected Leaders:** Members of Congress are elected by the people.\n- **Term Limits:** Senators serve 6-year terms with no limit, while Representatives serve 2-year terms with no limit. \n\n## 2. Executive Branch\n- **Role:** The executive branch is responsible for enforcing laws. It is headed by the President of the United States.\n- **Elected Leader:** The President is elected by the Electoral College.\n- **Term Limits:** The President can serve a maximum of two 4-year terms.\n\n## 3. Judicial Branch\n- **Role:** The judicial branch interprets and applies laws. It consists of the Supreme Court and other federal courts.\n- **Appointed Leaders:** Federal judges, including Supreme Court Justices, are appointed by the President and confirmed by the Senate.\n- **Term Limits:** Federal judges serve for life unless they resign, retire, or are impeached.\n\n## Interactions among the Branches\n- **Checks and Balances:** Each branch has the power to check and limit the actions of the other branches to prevent abuse of power.\n- **Example:** The President can veto legislation passed by Congress, but Congress can override the veto with a two-thirds majority vote.\n\n### Interaction Examples:\n1. **Legislative and Executive:** Congress can pass laws, but the President can veto them. However, Congress can override a veto with a two-thirds majority.\n2. **Legislative and Judicial:** Congress can impeach federal judges, and the Senate can confirm or reject judicial appointments made by the President.\n3. **Executive and Judicial:** The President appoints federal judges, including Supreme Court Justices, with the Senate's consent.\n\nIn conclusion, the US government functions through a system of checks and balances among the three branches to ensure accountability and prevent the concentration of power. Elected leaders in the legislative and executive branches have specific term limits, while appointed leaders in the judiciary serve for life. This structure is designed to uphold the principles of democracy and protect the rights of the American people."
          },
          "metadata": {}
        }
      ]
    },
    {
      "cell_type": "code",
      "source": [
        "prompt_IN_govt = \"Write a 500 word essay about the Indian government in markdown.\" + query_about_government\n",
        "essay_IN_government = query_gpt(prompt_IN_govt)\n",
        "display(Markdown(essay_IN_government))"
      ],
      "metadata": {
        "colab": {
          "base_uri": "https://localhost:8080/",
          "height": 1000
        },
        "id": "yqxYICZFYv4z",
        "outputId": "1106918d-58cf-4141-cb26-4c317a8ac195"
      },
      "execution_count": null,
      "outputs": [
        {
          "output_type": "display_data",
          "data": {
            "text/plain": [
              "<IPython.core.display.Markdown object>"
            ],
            "text/markdown": "# The Indian Government\n\nThe Indian government operates under a federal parliamentary system and is divided into three main branches: the Executive, the Legislature, and the Judiciary. Each branch has a distinct role in the functioning of the government and there are mechanisms in place to ensure a system of checks and balances among these branches.\n\n## Executive Branch\n\n### Elected Leadership\nThe Executive Branch is headed by the President of India, who is elected by an electoral college comprising of members of both houses of the Parliament and the state legislatures. The President is the ceremonial head of the state and exercises powers in accordance with the advice of the Council of Ministers, headed by the Prime Minister.\n\n#### Term Limits\nThe President serves a term of five years and can be re-elected for a second term.\n\n### Appointed Leadership\nThe Prime Minister is the head of government and is appointed by the President. The Council of Ministers consists of ministers who are appointed by the President on the advice of the Prime Minister.\n\n## Legislature\n\nThe Indian Parliament is bicameral, consisting of the Rajya Sabha (Council of States) and the Lok Sabha (House of the People). Members of both houses are elected by the citizens of India.\n\n### Term Limits\nMembers of the Lok Sabha serve a term of five years, after which general elections are held. Members of the Rajya Sabha serve a term of six years, with one-third of the members retiring every two years.\n\n## Judiciary\n\nThe Judiciary in India is independent and is headed by the Supreme Court of India, which is the highest judicial body in the country. It has the power of judicial review and ensures that laws passed by the Legislature and actions of the Executive comply with the Constitution.\n\n### Appointed Leadership\nJudges of the Supreme Court are appointed by the President on the advice of the Chief Justice of India and a collegium of senior judges.\n\n#### Term Limits\nThere is no fixed term limit for judges of the Supreme Court. They retire at the age of 65.\n\n## Interactions Among Branches\n\n### Checks and Balances\nThe Executive is responsible for implementing laws passed by the Legislature, while the Judiciary interprets these laws and ensures their constitutionality. The Legislature holds the Executive accountable through debates, questioning, and passing of legislation.\n\n### Interaction\nThe President acts on the advice of the Council of Ministers, who are members of the Legislature. The Judiciary can strike down laws passed by the Legislature if they are found to be unconstitutional.\n\nIn conclusion, the Indian government comprises three branches, each with its distinct roles and responsibilities. While the Executive and Judiciary have appointed leadership, the Legislature consists of elected members. The term limits for leaders vary, with the President serving a five-year term, Members of the Lok Sabha serving five years, Rajya Sabha members serving six years, and Supreme Court judges retiring at the age of 65. The system of checks and balances ensures the smooth functioning of the government and prevents the concentration of power in any one branch."
          },
          "metadata": {}
        }
      ]
    },
    {
      "cell_type": "code",
      "source": [
        "def compare_gpt(\n",
        "    document1,\n",
        "    document2,\n",
        "    system_message = \"Compare the two documents and return a bullet list summary of the major differences in markdown.\",\n",
        "    model = \"gpt-3.5-turbo\",\n",
        "  ):\n",
        "    messages = [\n",
        "        {\n",
        "            \"role\": \"system\",\n",
        "            \"content\": system_message\n",
        "        },\n",
        "        {\n",
        "            \"role\": \"user\",\n",
        "            \"content\": \"First Document: \" + document1 + \"\\nSecond Document: \" + document2\n",
        "        }\n",
        "    ]\n",
        "    response = client.chat.completions.create(\n",
        "        model = model,\n",
        "        messages = messages\n",
        "    )\n",
        "    return response.choices[0].message.content\n"
      ],
      "metadata": {
        "id": "h2dS3e0mZkT4"
      },
      "execution_count": null,
      "outputs": []
    },
    {
      "cell_type": "code",
      "source": [
        "comparison = compare_gpt(essay_US_government,essay_IN_government)\n",
        "display(Markdown(comparison))"
      ],
      "metadata": {
        "colab": {
          "base_uri": "https://localhost:8080/",
          "height": 325
        },
        "id": "njA0lhe2aUYh",
        "outputId": "b0580ecd-36e1-4139-8ce2-1051e5f8da85"
      },
      "execution_count": null,
      "outputs": [
        {
          "output_type": "display_data",
          "data": {
            "text/plain": [
              "<IPython.core.display.Markdown object>"
            ],
            "text/markdown": "- **US Government System:**\n  - Operates under a system of checks and balances among three branches: Legislative, Executive, and Judicial.\n  - Legislative Branch has the Congress divided into two chambers: House of Representatives and Senate.\n  - Executive Branch is headed by the President, who can serve a maximum of two 4-year terms.\n  - Judicial Branch consists of the Supreme Court and federal courts where judges serve for life.\n  - Elected leaders in Legislative and Executive branches with specific term limits.\n  - Appointment of federal judges by the President and confirmation by the Senate.\n  - The structure aims to prevent abusing power, promote democracy, and protect people's rights.\n\n- **Indian Government:**\n  - Operates under a federal parliamentary system with Executive, Legislature, and Judiciary branches.\n  - Executive Branch has the President of India and Prime Minister where the President serves a five-year term.\n  - Legislative Branch is bicameral with the Rajya Sabha and Lok Sabha members elected by citizens for specific terms.\n  - Judiciary, headed by the Supreme Court, ensures laws and actions comply with the Constitution.\n  - Appointment of Prime Minister and Chief Justice by the President.\n  - Supreme Court judges retire at the age of 65.\n  - The system maintains checks and balances to prevent power concentration, ensure accountability, and smooth government functioning."
          },
          "metadata": {}
        }
      ]
    },
    {
      "cell_type": "code",
      "source": [
        "def compare_topics(\n",
        "    topic1,\n",
        "    topic2,\n",
        "    criteria\n",
        "  ):\n",
        "  essay1 = query_gpt(\n",
        "      topic1,\n",
        "      system_message = \"You are an AI that writes a 500 word essay in markdown, using criteria: \" + criteria\n",
        "      )\n",
        "  essay2 = query_gpt(\n",
        "      topic2,\n",
        "      system_message = \"You are an AI that writes a 500 word essay in markdown, using criteria: \" + criteria\n",
        "      )\n",
        "  comparison = compare_gpt(\n",
        "      essay1,\n",
        "      essay2,\n",
        "      system_message = \"Study the two essays and write a compare and contrast essay of both in markdown. Ensure that all topics in this criteria are examined: \" + criteria\n",
        "      )\n",
        "  return comparison\n"
      ],
      "metadata": {
        "id": "NFO0_CQolduY"
      },
      "execution_count": null,
      "outputs": []
    },
    {
      "cell_type": "markdown",
      "source": [
        "# 2) Compare US vs India Financial Systems:\n",
        "\n",
        "### 2.1 Criteria:"
      ],
      "metadata": {
        "id": "0srEaU6WnffC"
      }
    },
    {
      "cell_type": "code",
      "source": [
        "criteria = query_gpt(\"What criteria should be used to describe and compare two or more financial systems?\")\n",
        "display(Markdown(criteria))"
      ],
      "metadata": {
        "colab": {
          "base_uri": "https://localhost:8080/",
          "height": 64
        },
        "id": "cdcMGkxFl0E0",
        "outputId": "b56c4c03-d334-4263-a3ed-2447d8a5052c"
      },
      "execution_count": null,
      "outputs": [
        {
          "output_type": "display_data",
          "data": {
            "text/plain": [
              "<IPython.core.display.Markdown object>"
            ],
            "text/markdown": "To describe and compare two or more financial systems, you can consider criteria such as regulatory framework, financial stability, transparency, efficiency, innovation, accessibility, inclusivity, and overall effectiveness in facilitating economic growth and development."
          },
          "metadata": {}
        }
      ]
    },
    {
      "cell_type": "markdown",
      "source": [
        "### 2.1 Comparison"
      ],
      "metadata": {
        "id": "cXILPIamnq6-"
      }
    },
    {
      "cell_type": "code",
      "source": [
        "comparison = compare_topics(\n",
        "    \"US Financial System\",\n",
        "    \"Indian Financial System\",\n",
        "    criteria\n",
        ")\n",
        "\n",
        "display(Markdown(comparison))"
      ],
      "metadata": {
        "colab": {
          "base_uri": "https://localhost:8080/",
          "height": 989
        },
        "id": "MI6bw0CGnj9n",
        "outputId": "3a2a5f7e-d74d-4ba0-e6fa-86c3cf822b4f"
      },
      "execution_count": null,
      "outputs": [
        {
          "output_type": "display_data",
          "data": {
            "text/plain": [
              "<IPython.core.display.Markdown object>"
            ],
            "text/markdown": "## Compare and Contrast: US Financial System vs Indian Financial System\n\n### Efficiency:\n- **US Financial System**: Known for a highly efficient and sophisticated infrastructure, advanced technology, and a wide range of financial products and services catering to diverse needs.\n- **Indian Financial System**: Making strides in recent years but facing challenges in efficiency, especially in rural areas.\n\n### Stability:\n- **US Financial System**: Supported by strong regulatory frameworks like the Federal Reserve System, maintaining financial stability and preventing systemic risks.\n- **Indian Financial System**: Regulatory frameworks in place to ensure stability but may not be as developed as the US system, as seen during the 2008 financial crisis.\n\n### Transparency:\n- **US Financial System**: Characterized by high transparency, with detailed reporting requirements for financial institutions.\n- **Indian Financial System**: Making improvements but still has room for enhancement in terms of transparency.\n\n### Regulation and Oversight:\n- **US Financial System**: Regulated by comprehensive laws and overseen by bodies like the SEC and the Federal Reserve.\n- **Indian Financial System**: Regulated by institutions like the RBI and SEBI, showcasing diligence in oversight but with possibly differing regulatory intensity compared to the US.\n\n### Inclusiveness:\n- **US Financial System**: Provides access to a wide range of financial products and services, promoting equal access through initiatives like the Community Reinvestment Act.\n- **Indian Financial System**: Making efforts toward financial inclusion with initiatives like Jan Dhan Yojana, showing progress but potentially lagging behind the US in inclusiveness.\n\n### Innovation:\n- **US Financial System**: Known for continuous innovation in response to changing market conditions, technological advancements, and consumer preferences.\n- **Indian Financial System**: Also seeing rise in FinTech innovation with platforms like Paytm and PhonePe, depicting potential for growth and development in innovation.\n\n### Complexity:\n- **US Financial System**: Offers a diverse array of financial products, institutions, and markets, leading to challenges but also benefits in terms of diversification and risk-sharing.\n- **Indian Financial System**: Less complex than the US system but rapidly evolving, suggesting potential for increased complexity in the future.\n\n### Adaptability:\n- **US Financial System**: Demonstrated resilience during economic shocks and crises, showcasing flexibility to adjust to changing market conditions and regulatory requirements.\n- **Indian Financial System**: Implemented measures to mitigate the impact of market changes like the COVID-19 pandemic, highlighting a degree of adaptability but may still have room for improvement.\n\n### Conclusion:\nBoth the US and Indian financial systems exhibit strengths in efficiency, stability, transparency, regulation, inclusiveness, innovation, complexity, and adaptability, albeit to varying degrees. While the US system excels in areas like efficiency, stability, and transparency, the Indian system shows progress, particularly in inclusiveness and potential for innovation. Cross-learning and collaboration between the two systems can enhance global financial efficiency and stability, addressing unique challenges and leveraging respective strengths for mutual benefit."
          },
          "metadata": {}
        }
      ]
    },
    {
      "cell_type": "markdown",
      "source": [
        "### 2.3) Summary of Comparison"
      ],
      "metadata": {
        "id": "MbBowE4Gnv2G"
      }
    },
    {
      "cell_type": "code",
      "source": [
        "summary = summary_gpt(comparison)\n",
        "display(Markdown(summary))"
      ],
      "metadata": {
        "id": "gxOa9s0Tnlek",
        "colab": {
          "base_uri": "https://localhost:8080/",
          "height": 46
        },
        "outputId": "b9386fcf-3779-40f6-8f7b-f82f5ff00bac"
      },
      "execution_count": null,
      "outputs": [
        {
          "output_type": "display_data",
          "data": {
            "text/plain": [
              "<IPython.core.display.Markdown object>"
            ],
            "text/markdown": "Comparison of US and Indian Financial Systems: Efficiency, Stability, and Regulation"
          },
          "metadata": {}
        }
      ]
    },
    {
      "cell_type": "markdown",
      "source": [
        "# 3) Compare GOOG vs META\n",
        "\n",
        "### 3.1) Criteria"
      ],
      "metadata": {
        "id": "ru6j6KnmnzOw"
      }
    },
    {
      "cell_type": "code",
      "source": [
        "criteria = query_gpt(\"What criteria should be used to describe and compare two or more Mag 7 companies?\")\n",
        "display(Markdown(criteria))"
      ],
      "metadata": {
        "colab": {
          "base_uri": "https://localhost:8080/",
          "height": 249
        },
        "id": "muqhf07onLmE",
        "outputId": "5ab9886c-14f0-4c99-b797-ca2c672a62c0"
      },
      "execution_count": null,
      "outputs": [
        {
          "output_type": "display_data",
          "data": {
            "text/plain": [
              "<IPython.core.display.Markdown object>"
            ],
            "text/markdown": "When describing and comparing two or more Magic 7 companies, you should consider the following criteria:\n\n1. Market capitalization: Compare the total market value of each company's outstanding shares.\n\n2. Revenue growth: Analyze the growth rate of each company's revenue over a specific period.\n\n3. Profit margin: Compare the profitability of each company by looking at their profit margins.\n\n4. Market share: Evaluate the percentage of total market sales that each company holds.\n\n5. Innovation and technology: Assess the level of innovation and technology adoption in each company's products or services.\n\n6. Leadership and management: Evaluate the quality of leadership and management in each company.\n\n7. Corporate social responsibility: Consider each company's commitment to social and environmental causes.\n\nBy analyzing these criteria, you can effectively describe and compare two or more Magic 7 companies."
          },
          "metadata": {}
        }
      ]
    },
    {
      "cell_type": "markdown",
      "source": [
        "### 3.2) Comparison"
      ],
      "metadata": {
        "id": "PrjBd2Ivn-to"
      }
    },
    {
      "cell_type": "code",
      "source": [
        "comparison = compare_topics(\n",
        "    \"Google\",\n",
        "    \"Meta\",\n",
        "    criteria\n",
        ")\n",
        "\n",
        "display(Markdown(comparison))"
      ],
      "metadata": {
        "id": "SqSasRsVn9pe",
        "colab": {
          "base_uri": "https://localhost:8080/",
          "height": 828
        },
        "outputId": "3c0ac438-8234-405c-eaa0-11526f4fcc67"
      },
      "execution_count": null,
      "outputs": [
        {
          "output_type": "display_data",
          "data": {
            "text/plain": [
              "<IPython.core.display.Markdown object>"
            ],
            "text/markdown": "# Compare and Contrast Analysis of Mag 7 Companies\n\n## Market Capitalization\n- **Google**: Google boasts one of the highest market capitalizations among the Mag 7 companies, consistently in the hundreds of billions.\n- **Apple, Microsoft, Tesla, Facebook**: Apple and Microsoft have market capitalizations in the trillions, while Tesla and Facebook have market capitalizations in the hundreds of billions.\n\n## Revenue and Profitability\n- **Google**: Google's revenue and profitability are impressive, driven mainly by advertising services.\n- **Amazon, Alphabet (Google)**: Companies like Amazon and Alphabet have consistently high revenues and profits, showcasing their strong financial standing.\n- **Netflix**: Netflix may have high revenues but lower profits due to heavy investment in content creation and expansion.\n\n## Growth Metrics\n- **Google**: Google has shown strong growth metrics with increasing revenue, customer acquisition rates, and market expansion.\n- **Amazon, Tesla, Facebook**: Companies like Amazon and Tesla have shown remarkable revenue growth and successful global market expansion. Facebook has an expanding user base and innovative acquisitions.\n\n## Product or Service Offerings\n- **Google**: Google offers a diversified portfolio of products and services, positioning itself as a key player in various sectors.\n- **Apple**: Apple stands out with its diverse and innovative product range, known for quality.\n- **Netflix**: Netflix distinguishes itself with its streaming service and original content.\n- **Amazon**: Amazon dominates with its e-commerce platform and AWS cloud services.\n\n## Industry and Market Trends\n- **Google**: Google is positioned as a leader in technology, focusing on innovation and adapting to market dynamics.\n- **Microsoft**: Microsoft transitioned successfully into cloud services and software solutions.\n- **Tesla**: Tesla leads the electric vehicle market, leveraging the trend towards sustainable energy and transportation.\n\n## Management Team\n- **Google**: Google's management team, led by Sundar Pichai, has extensive experience and a successful track record.\n- **Alphabet, Microsoft**: Alphabet and Microsoft have experienced leadership with a proven track record of driving innovation and growth.\n\n## Competitive Landscape\n- **Google**: Faces competition from tech giants but maintains a competitive edge with strong market share and innovative offerings.\n- **Amazon, Facebook**: Companies like Amazon and Facebook have solidified their positions as market leaders in e-commerce and social media, respectively.\n\nIn conclusion, while all Mag 7 companies exhibit strong performance, each company has its unique strengths and strategies that contribute to its competitive edge in the market. They excel in different areas such as market capitalization, revenue and profitability, growth metrics, product offerings, industry trends, management team quality, and competitive positioning, showcasing their diverse and innovative approaches in the industry."
          },
          "metadata": {}
        }
      ]
    },
    {
      "cell_type": "markdown",
      "source": [
        "### 3.3) Summary of comparison"
      ],
      "metadata": {
        "id": "JIg8_qY4n6zu"
      }
    },
    {
      "cell_type": "code",
      "source": [
        "summary = summary_gpt(comparison)\n",
        "display(Markdown(summary))"
      ],
      "metadata": {
        "id": "PUxZbqxFnZ13",
        "colab": {
          "base_uri": "https://localhost:8080/",
          "height": 46
        },
        "outputId": "983a22a4-3daa-46d1-98ac-dacda7314dd8"
      },
      "execution_count": null,
      "outputs": [
        {
          "data": {
            "text/markdown": "Mag 7 Companies Compared: Market Capitalization, Revenue, Growth, and More",
            "text/plain": [
              "<IPython.core.display.Markdown object>"
            ]
          },
          "metadata": {},
          "output_type": "display_data"
        }
      ]
    }
  ]
}