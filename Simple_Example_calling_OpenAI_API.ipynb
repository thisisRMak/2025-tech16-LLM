{
  "nbformat": 4,
  "nbformat_minor": 0,
  "metadata": {
    "colab": {
      "provenance": [],
      "authorship_tag": "ABX9TyObNp9FDpIgZ6HkGNgKxnmX",
      "include_colab_link": true
    },
    "kernelspec": {
      "name": "python3",
      "display_name": "Python 3"
    },
    "language_info": {
      "name": "python"
    }
  },
  "cells": [
    {
      "cell_type": "markdown",
      "metadata": {
        "id": "view-in-github",
        "colab_type": "text"
      },
      "source": [
        "<a href=\"https://colab.research.google.com/github/thisisRMak/2025-tech16-LLM/blob/main/Simple_Example_calling_OpenAI_API.ipynb\" target=\"_parent\"><img src=\"https://colab.research.google.com/assets/colab-badge.svg\" alt=\"Open In Colab\"/></a>"
      ]
    },
    {
      "cell_type": "code",
      "execution_count": 5,
      "metadata": {
        "id": "n6ibnUq_gB9o"
      },
      "outputs": [],
      "source": [
        "# import OpenAI for use in this notebook\n",
        "#\n",
        "# if running this notebook in a local machine\n",
        "#  one needs to do ```!pip install openai``` beforehand\n",
        "#  this is not needed in a colab notebook because its available by default\n",
        "\n",
        "from openai import OpenAI"
      ]
    },
    {
      "cell_type": "code",
      "source": [
        "# openAI keys can be saved as \"secrets\" in google colab, access these in the left panel\n",
        "#   See articles like this one for a walkthrough with screenshots\n",
        "#   https://medium.com/@parthdasawant/how-to-use-secrets-in-google-colab-450c38e3ec75\n",
        "\n",
        "from google.colab import userdata\n",
        "open_ai_key = userdata.get('open_ai_key')"
      ],
      "metadata": {
        "id": "KfNv82uhgEOA"
      },
      "execution_count": 7,
      "outputs": []
    },
    {
      "cell_type": "code",
      "source": [
        "# create an OpenAI client\n",
        "\n",
        "client = OpenAI(\n",
        "    api_key=open_ai_key,\n",
        ")"
      ],
      "metadata": {
        "id": "N6j0p2qfguTt"
      },
      "execution_count": 8,
      "outputs": []
    },
    {
      "cell_type": "code",
      "source": [
        "# Get a completion response using the API\n",
        "\n",
        "response = client.chat.completions.create(\n",
        "    model=\"gpt-3.5-turbo\",\n",
        "    messages=[{\n",
        "        \"role\": \"user\",\n",
        "        \"content\": \"What are the biggest risks facing NVidia today?\"\n",
        "    }]\n",
        ")"
      ],
      "metadata": {
        "id": "3IqBQ-XfhYd3"
      },
      "execution_count": 13,
      "outputs": []
    },
    {
      "cell_type": "code",
      "source": [
        "# display/print the response object\n",
        "\n",
        "print(response)"
      ],
      "metadata": {
        "colab": {
          "base_uri": "https://localhost:8080/"
        },
        "id": "CXi9fCxHjPQi",
        "outputId": "e9ff100c-4251-4d37-abae-5224f7463412"
      },
      "execution_count": 14,
      "outputs": [
        {
          "output_type": "stream",
          "name": "stdout",
          "text": [
            "ChatCompletion(id='chatcmpl-BElq0LSA9pZslGa54RbvbRgEyOCYa', choices=[Choice(finish_reason='stop', index=0, logprobs=None, message=ChatCompletionMessage(content=\"1. Competition: NVidia faces stiff competition from rivals such as AMD and Intel in the graphics card market. These competitors are constantly innovating and introducing new technologies that could potentially erode NVidia's market share.\\n\\n2. Dependence on gaming industry: NVidia relies heavily on the gaming industry for a significant portion of its revenue. Any downturn in the gaming industry or changes in consumer preferences could negatively impact NVidia's financial performance.\\n\\n3. Regulatory risks: NVidia operates in a highly regulated industry, and any changes in regulations could have a significant impact on the company's operations and financial performance.\\n\\n4. Supply chain disruptions: NVidia relies on a complex global supply chain to source components for its products. Any disruptions in the supply chain, such as natural disasters or geopolitical tensions, could impact NVidia's ability to deliver products to customers.\\n\\n5. Technology risks: NVidia's business is highly reliant on technological advancements, and any failure to innovate or keep up with technological trends could jeopardize its competitive position in the market.\\n\\n6. Cybersecurity risks: As a technology company, NVidia faces cybersecurity risks such as data breaches and cyber attacks. A security breach could compromise sensitive customer information and damage NVidia's reputation.\", refusal=None, role='assistant', annotations=[], audio=None, function_call=None, tool_calls=None))], created=1742860180, model='gpt-3.5-turbo-0125', object='chat.completion', service_tier='default', system_fingerprint=None, usage=CompletionUsage(completion_tokens=246, prompt_tokens=17, total_tokens=263, completion_tokens_details=CompletionTokensDetails(accepted_prediction_tokens=0, audio_tokens=0, reasoning_tokens=0, rejected_prediction_tokens=0), prompt_tokens_details=PromptTokensDetails(audio_tokens=0, cached_tokens=0)))\n"
          ]
        }
      ]
    },
    {
      "cell_type": "code",
      "source": [
        "# Extract and print the relevant response message\n",
        "\n",
        "print(response.choices[0].message.content)\n"
      ],
      "metadata": {
        "colab": {
          "base_uri": "https://localhost:8080/"
        },
        "id": "1NLCtsWWjVHj",
        "outputId": "a789da51-d41f-4322-bc25-c11c6f652656"
      },
      "execution_count": 15,
      "outputs": [
        {
          "output_type": "stream",
          "name": "stdout",
          "text": [
            "1. Competition: NVidia faces stiff competition from rivals such as AMD and Intel in the graphics card market. These competitors are constantly innovating and introducing new technologies that could potentially erode NVidia's market share.\n",
            "\n",
            "2. Dependence on gaming industry: NVidia relies heavily on the gaming industry for a significant portion of its revenue. Any downturn in the gaming industry or changes in consumer preferences could negatively impact NVidia's financial performance.\n",
            "\n",
            "3. Regulatory risks: NVidia operates in a highly regulated industry, and any changes in regulations could have a significant impact on the company's operations and financial performance.\n",
            "\n",
            "4. Supply chain disruptions: NVidia relies on a complex global supply chain to source components for its products. Any disruptions in the supply chain, such as natural disasters or geopolitical tensions, could impact NVidia's ability to deliver products to customers.\n",
            "\n",
            "5. Technology risks: NVidia's business is highly reliant on technological advancements, and any failure to innovate or keep up with technological trends could jeopardize its competitive position in the market.\n",
            "\n",
            "6. Cybersecurity risks: As a technology company, NVidia faces cybersecurity risks such as data breaches and cyber attacks. A security breach could compromise sensitive customer information and damage NVidia's reputation.\n"
          ]
        }
      ]
    }
  ]
}