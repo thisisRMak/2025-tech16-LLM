{
  "nbformat": 4,
  "nbformat_minor": 0,
  "metadata": {
    "colab": {
      "provenance": [],
      "authorship_tag": "ABX9TyONKnNo4/SRDpKzLZun1LLL",
      "include_colab_link": true
    },
    "kernelspec": {
      "name": "python3",
      "display_name": "Python 3"
    },
    "language_info": {
      "name": "python"
    }
  },
  "cells": [
    {
      "cell_type": "markdown",
      "metadata": {
        "id": "view-in-github",
        "colab_type": "text"
      },
      "source": [
        "<a href=\"https://colab.research.google.com/github/thisisRMak/2025-tech16-LLM/blob/main/Simple_Example_calling_OpenAI_API.ipynb\" target=\"_parent\"><img src=\"https://colab.research.google.com/assets/colab-badge.svg\" alt=\"Open In Colab\"/></a>"
      ]
    },
    {
      "cell_type": "code",
      "execution_count": 13,
      "metadata": {
        "id": "n6ibnUq_gB9o"
      },
      "outputs": [],
      "source": [
        "# import OpenAI for use in this notebook\n",
        "#\n",
        "# if running this notebook in a local machine\n",
        "#  one needs to do ```!pip install openai``` beforehand\n",
        "#  this is not needed in a colab notebook because its available by default\n",
        "\n",
        "from openai import OpenAI"
      ]
    },
    {
      "cell_type": "code",
      "source": [
        "# openAI keys can be saved as \"secrets\" in google colab, access these in the left panel\n",
        "#   See articles like this one for a walkthrough with screenshots\n",
        "#   https://medium.com/@parthdasawant/how-to-use-secrets-in-google-colab-450c38e3ec75\n",
        "\n",
        "from google.colab import userdata\n",
        "open_ai_key = userdata.get('open_ai_key')"
      ],
      "metadata": {
        "id": "KfNv82uhgEOA"
      },
      "execution_count": 14,
      "outputs": []
    },
    {
      "cell_type": "code",
      "source": [
        "# create an OpenAI client\n",
        "\n",
        "client = OpenAI(\n",
        "    api_key = open_ai_key,\n",
        ")"
      ],
      "metadata": {
        "id": "N6j0p2qfguTt"
      },
      "execution_count": 15,
      "outputs": []
    },
    {
      "cell_type": "code",
      "source": [
        "# Get a completion response using the API\n",
        "\n",
        "response = client.chat.completions.create(\n",
        "    model =\"gpt-4-turbo\",\n",
        "    messages = [\n",
        "        {\n",
        "            \"role\": \"system\",\n",
        "            \"content\": \"You are an AI that takes instructions from a human and produces a concise answer.\"\n",
        "        },\n",
        "        {\n",
        "            \"role\": \"user\",\n",
        "            \"content\": \"What are the biggest risks facing NVidia today?\"\n",
        "        }\n",
        "    ]\n",
        ")"
      ],
      "metadata": {
        "id": "3IqBQ-XfhYd3"
      },
      "execution_count": 19,
      "outputs": []
    },
    {
      "cell_type": "code",
      "source": [
        "# display/print the response object\n",
        "\n",
        "print(response)"
      ],
      "metadata": {
        "colab": {
          "base_uri": "https://localhost:8080/"
        },
        "id": "CXi9fCxHjPQi",
        "outputId": "527889d7-7e5b-4332-cc05-a6b82b082e28"
      },
      "execution_count": 20,
      "outputs": [
        {
          "output_type": "stream",
          "name": "stdout",
          "text": [
            "ChatCompletion(id='chatcmpl-BErhqysm5TyEcunPlsYFiodMENNq2', choices=[Choice(finish_reason='stop', index=0, logprobs=None, message=ChatCompletionMessage(content=\"As of 2023, the biggest risks facing Nvidia include:\\n\\n1. **Competition**: Nvidia faces intense competition from other major technology firms like AMD and Intel in the graphics processing unit (GPU) market, as well as emerging competition from companies investing in their own chip development, such as Apple and Google.\\n\\n2. **Supply Chain Disruptions**: Global supply chain challenges can affect Nvidia's ability to produce and deliver products in a timely manner. Issues such as shortages in semiconductor manufacturing capacity and logistics bottlenecks pose significant risks.\\n\\n3. **Regulatory Challenges**: Increased scrutiny from regulatory bodies around the world, particularly concerning acquisitions and competitive practices, could impact Nvidia’s expansion plans and market strategy.\\n\\n4. **Technology Shifts**: Rapid changes in technology and customer preferences require constant innovation. Failures or delays in research and development could hinder Nvidia’s ability to keep up with market demands.\\n\\n5. **Economic Downturns**: As a supplier of high-end GPUs, Nvidia could be impacted by reduced consumer and enterprise spending during economic slowdowns.\\n\\n6. **Geopolitical Tensions**: Nvidia, like many global tech companies, could be affected by international trade disputes and sanctions, especially between the United States and countries like China.\\n\\n7. **Ethical and Social Concern**: As AI and machine learning become increasingly pervasive, Nvidia could face ethical, privacy, and security concerns that affect customer trust and regulatory compliance.\\n\\n8. **Cybersecurity Threats**: Threats related to cybersecurity, including data breaches and hacking, could compromise Nvidia’s intellectual property and sensitive data.\\n\\nManaging these risks effectively is crucial for Nvidia to maintain its market leadership and continue its growth trajectory.\", refusal=None, role='assistant', annotations=[], audio=None, function_call=None, tool_calls=None))], created=1742882738, model='gpt-4-turbo-2024-04-09', object='chat.completion', service_tier='default', system_fingerprint='fp_101a39fff3', usage=CompletionUsage(completion_tokens=334, prompt_tokens=37, total_tokens=371, completion_tokens_details=CompletionTokensDetails(accepted_prediction_tokens=0, audio_tokens=0, reasoning_tokens=0, rejected_prediction_tokens=0), prompt_tokens_details=PromptTokensDetails(audio_tokens=0, cached_tokens=0)))\n"
          ]
        }
      ]
    },
    {
      "cell_type": "code",
      "source": [
        "# Extract and print the relevant response message\n",
        "\n",
        "print(response.choices[0].message.content)\n"
      ],
      "metadata": {
        "colab": {
          "base_uri": "https://localhost:8080/"
        },
        "id": "1NLCtsWWjVHj",
        "outputId": "9a36d18c-0150-4385-d890-2859c0856ba6"
      },
      "execution_count": 21,
      "outputs": [
        {
          "output_type": "stream",
          "name": "stdout",
          "text": [
            "As of 2023, the biggest risks facing Nvidia include:\n",
            "\n",
            "1. **Competition**: Nvidia faces intense competition from other major technology firms like AMD and Intel in the graphics processing unit (GPU) market, as well as emerging competition from companies investing in their own chip development, such as Apple and Google.\n",
            "\n",
            "2. **Supply Chain Disruptions**: Global supply chain challenges can affect Nvidia's ability to produce and deliver products in a timely manner. Issues such as shortages in semiconductor manufacturing capacity and logistics bottlenecks pose significant risks.\n",
            "\n",
            "3. **Regulatory Challenges**: Increased scrutiny from regulatory bodies around the world, particularly concerning acquisitions and competitive practices, could impact Nvidia’s expansion plans and market strategy.\n",
            "\n",
            "4. **Technology Shifts**: Rapid changes in technology and customer preferences require constant innovation. Failures or delays in research and development could hinder Nvidia’s ability to keep up with market demands.\n",
            "\n",
            "5. **Economic Downturns**: As a supplier of high-end GPUs, Nvidia could be impacted by reduced consumer and enterprise spending during economic slowdowns.\n",
            "\n",
            "6. **Geopolitical Tensions**: Nvidia, like many global tech companies, could be affected by international trade disputes and sanctions, especially between the United States and countries like China.\n",
            "\n",
            "7. **Ethical and Social Concern**: As AI and machine learning become increasingly pervasive, Nvidia could face ethical, privacy, and security concerns that affect customer trust and regulatory compliance.\n",
            "\n",
            "8. **Cybersecurity Threats**: Threats related to cybersecurity, including data breaches and hacking, could compromise Nvidia’s intellectual property and sensitive data.\n",
            "\n",
            "Managing these risks effectively is crucial for Nvidia to maintain its market leadership and continue its growth trajectory.\n"
          ]
        }
      ]
    },
    {
      "cell_type": "code",
      "source": [],
      "metadata": {
        "id": "G-k3-q4N5oR4"
      },
      "execution_count": 18,
      "outputs": []
    }
  ]
}