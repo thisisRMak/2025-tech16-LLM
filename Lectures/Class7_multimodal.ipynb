{
  "nbformat": 4,
  "nbformat_minor": 0,
  "metadata": {
    "colab": {
      "provenance": [],
      "include_colab_link": true
    },
    "kernelspec": {
      "name": "python3",
      "display_name": "Python 3"
    },
    "language_info": {
      "name": "python"
    }
  },
  "cells": [
    {
      "cell_type": "markdown",
      "metadata": {
        "id": "view-in-github",
        "colab_type": "text"
      },
      "source": [
        "<a href=\"https://colab.research.google.com/github/thisisRMak/2025-tech16-LLM/blob/main/Lectures/Class7_multimodal.ipynb\" target=\"_parent\"><img src=\"https://colab.research.google.com/assets/colab-badge.svg\" alt=\"Open In Colab\"/></a>"
      ]
    },
    {
      "cell_type": "code",
      "execution_count": null,
      "metadata": {
        "id": "o4cBNXLD0izS"
      },
      "outputs": [],
      "source": [
        "import os\n",
        "from google.colab import userdata\n",
        "from openai import OpenAI\n",
        "\n",
        "open_ai_key = userdata.get('open_ai_key')\n",
        "client = OpenAI(api_key=open_ai_key)"
      ]
    },
    {
      "cell_type": "code",
      "source": [
        "response = client.chat.completions.create(\n",
        "    model=\"gpt-4o-mini\",\n",
        "    messages=[{\n",
        "        \"role\": \"user\",\n",
        "        \"content\": [\n",
        "            {\"type\": \"text\", \"text\": \"Which university is this?\"},\n",
        "            {\n",
        "                \"type\": \"image_url\",\n",
        "                \"image_url\": {\n",
        "                    \"url\": \"https://upload.wikimedia.org/wikipedia/commons/thumb/c/cd/Stanford_Oval_May_2011_panorama.jpg/800px-Stanford_Oval_May_2011_panorama.jpg\",\n",
        "                },\n",
        "            },\n",
        "        ],\n",
        "    }],\n",
        ")\n",
        "\n",
        "print(response.choices[0].message.content)\n",
        "\n",
        "# pass file: https://platform.openai.com/docs/guides/images?api-mode=chat&format=base64-encoded"
      ],
      "metadata": {
        "colab": {
          "base_uri": "https://localhost:8080/"
        },
        "id": "w02pskoA0ldI",
        "outputId": "37206bf4-129b-485b-9081-3e03acde7c1f"
      },
      "execution_count": null,
      "outputs": [
        {
          "output_type": "stream",
          "name": "stdout",
          "text": [
            "This building is part of Harvard University, located in Cambridge, Massachusetts. It is known for its distinctive architecture and historical significance.\n"
          ]
        }
      ]
    },
    {
      "cell_type": "markdown",
      "source": [
        "# Create image"
      ],
      "metadata": {
        "id": "N0ahAlW018wb"
      }
    },
    {
      "cell_type": "code",
      "source": [
        "client.images.generate(\n",
        "  model=\"dall-e-3\",\n",
        "  prompt=\"A cute cartoon corgi wearing a hoodie at stanford\",\n",
        "  n=1,\n",
        "  size=\"1024x1024\"\n",
        ")"
      ],
      "metadata": {
        "colab": {
          "base_uri": "https://localhost:8080/"
        },
        "id": "Vcivf-oO1kD1",
        "outputId": "d41cdc02-534f-4abd-f45b-dd1ca79c9d63"
      },
      "execution_count": null,
      "outputs": [
        {
          "output_type": "execute_result",
          "data": {
            "text/plain": [
              "ImagesResponse(created=1741824740, data=[Image(b64_json=None, revised_prompt='An adorable Welsh Corgi wearing a sporty hoodie, situated within the context of Stanford. The corgi is encapsulated with short legs but a lovely energetic vibe. The hoodie, in a bold color, complements the adorable, short-stature canine. The backdrop includes the distinct Stanford environment, featuring brick buildings, sprawling lawns, and towering palm trees. The atmosphere is authentic, capturing the aesthetic richness of the classic Stanford setting. The Corgi embodies joy and playfulness, producing heart-melting cuteness in this educational campus setting.', url='https://oaidalleapiprodscus.blob.core.windows.net/private/org-bg26wZARemyrD7yllNSf7KOp/user-MkNeoUDIZCUwna6BfaWzPpqW/img-ySbBZdhFppJzjcT9zo5tcMbd.png?st=2025-03-12T23%3A12%3A20Z&se=2025-03-13T01%3A12%3A20Z&sp=r&sv=2024-08-04&sr=b&rscd=inline&rsct=image/png&skoid=d505667d-d6c1-4a0a-bac7-5c84a87759f8&sktid=a48cca56-e6da-484e-a814-9c849652bcb3&skt=2025-03-12T18%3A54%3A42Z&ske=2025-03-13T18%3A54%3A42Z&sks=b&skv=2024-08-04&sig=Dgfgg%2BzLB/ZonzdyEikHKdlHGQiyujcfEr4QxIFk7cY%3D')])"
            ]
          },
          "metadata": {},
          "execution_count": 6
        }
      ]
    },
    {
      "cell_type": "code",
      "source": [],
      "metadata": {
        "id": "sDPkoEYn5kns"
      },
      "execution_count": null,
      "outputs": []
    },
    {
      "cell_type": "markdown",
      "source": [
        "# Creating STT"
      ],
      "metadata": {
        "id": "wQ-R-dIU5k9k"
      }
    },
    {
      "cell_type": "code",
      "source": [
        "from pathlib import Path\n",
        "\n",
        "speech_file_path = \"speech.mp3\"\n",
        "response = client.audio.speech.create(\n",
        "    model=\"tts-1\",\n",
        "    voice=\"alloy\",\n",
        "    input=\"Hi to all the Tech16 superstars!\",\n",
        ")\n",
        "response.stream_to_file(speech_file_path)"
      ],
      "metadata": {
        "colab": {
          "base_uri": "https://localhost:8080/"
        },
        "id": "JZBf3Gx32BRT",
        "outputId": "532e05df-a5a9-4db7-9203-5bcf9a52ac5c"
      },
      "execution_count": null,
      "outputs": [
        {
          "output_type": "stream",
          "name": "stderr",
          "text": [
            "<ipython-input-9-649a1ec46362>:9: DeprecationWarning: Due to a bug, this method doesn't actually stream the response content, `.with_streaming_response.method()` should be used instead\n",
            "  response.stream_to_file(speech_file_path)\n"
          ]
        }
      ]
    },
    {
      "cell_type": "code",
      "source": [],
      "metadata": {
        "id": "NXQ5T-pQ5H-u"
      },
      "execution_count": null,
      "outputs": []
    }
  ]
}