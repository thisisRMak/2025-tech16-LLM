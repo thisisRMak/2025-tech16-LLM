{
  "cells": [
    {
      "cell_type": "markdown",
      "metadata": {
        "id": "view-in-github",
        "colab_type": "text"
      },
      "source": [
        "<a href=\"https://colab.research.google.com/github/thisisRMak/2025-tech16-LLM/blob/main/2025_Tech16_HW6.ipynb\" target=\"_parent\"><img src=\"https://colab.research.google.com/assets/colab-badge.svg\" alt=\"Open In Colab\"/></a>"
      ]
    },
    {
      "cell_type": "markdown",
      "metadata": {
        "id": "IBPvazZOVa9B"
      },
      "source": [
        "# AI Suite"
      ]
    },
    {
      "cell_type": "code",
      "execution_count": 1,
      "metadata": {
        "colab": {
          "base_uri": "https://localhost:8080/"
        },
        "id": "0MU-ksmKVa9F",
        "outputId": "00ecd593-8ad4-4087-a071-7dc17582470a"
      },
      "outputs": [
        {
          "output_type": "stream",
          "name": "stdout",
          "text": [
            "Collecting aisuite[all]\n",
            "  Downloading aisuite-0.1.10-py3-none-any.whl.metadata (9.2 kB)\n",
            "Collecting anthropic<0.31.0,>=0.30.1 (from aisuite[all])\n",
            "  Downloading anthropic-0.30.1-py3-none-any.whl.metadata (18 kB)\n",
            "Collecting cohere<6.0.0,>=5.12.0 (from aisuite[all])\n",
            "  Downloading cohere-5.14.0-py3-none-any.whl.metadata (3.4 kB)\n",
            "Collecting groq<0.10.0,>=0.9.0 (from aisuite[all])\n",
            "  Downloading groq-0.9.0-py3-none-any.whl.metadata (13 kB)\n",
            "Collecting httpx<0.28.0,>=0.27.0 (from aisuite[all])\n",
            "  Downloading httpx-0.27.2-py3-none-any.whl.metadata (7.1 kB)\n",
            "Requirement already satisfied: openai<2.0.0,>=1.35.8 in /usr/local/lib/python3.11/dist-packages (from aisuite[all]) (1.61.1)\n",
            "Requirement already satisfied: anyio<5,>=3.5.0 in /usr/local/lib/python3.11/dist-packages (from anthropic<0.31.0,>=0.30.1->aisuite[all]) (3.7.1)\n",
            "Requirement already satisfied: distro<2,>=1.7.0 in /usr/local/lib/python3.11/dist-packages (from anthropic<0.31.0,>=0.30.1->aisuite[all]) (1.9.0)\n",
            "Requirement already satisfied: jiter<1,>=0.4.0 in /usr/local/lib/python3.11/dist-packages (from anthropic<0.31.0,>=0.30.1->aisuite[all]) (0.9.0)\n",
            "Requirement already satisfied: pydantic<3,>=1.9.0 in /usr/local/lib/python3.11/dist-packages (from anthropic<0.31.0,>=0.30.1->aisuite[all]) (2.10.6)\n",
            "Requirement already satisfied: sniffio in /usr/local/lib/python3.11/dist-packages (from anthropic<0.31.0,>=0.30.1->aisuite[all]) (1.3.1)\n",
            "Requirement already satisfied: tokenizers>=0.13.0 in /usr/local/lib/python3.11/dist-packages (from anthropic<0.31.0,>=0.30.1->aisuite[all]) (0.21.1)\n",
            "Requirement already satisfied: typing-extensions<5,>=4.7 in /usr/local/lib/python3.11/dist-packages (from anthropic<0.31.0,>=0.30.1->aisuite[all]) (4.12.2)\n",
            "Collecting fastavro<2.0.0,>=1.9.4 (from cohere<6.0.0,>=5.12.0->aisuite[all])\n",
            "  Downloading fastavro-1.10.0-cp311-cp311-manylinux_2_17_x86_64.manylinux2014_x86_64.whl.metadata (5.5 kB)\n",
            "Collecting httpx-sse==0.4.0 (from cohere<6.0.0,>=5.12.0->aisuite[all])\n",
            "  Downloading httpx_sse-0.4.0-py3-none-any.whl.metadata (9.0 kB)\n",
            "Requirement already satisfied: pydantic-core<3.0.0,>=2.18.2 in /usr/local/lib/python3.11/dist-packages (from cohere<6.0.0,>=5.12.0->aisuite[all]) (2.27.2)\n",
            "Requirement already satisfied: requests<3.0.0,>=2.0.0 in /usr/local/lib/python3.11/dist-packages (from cohere<6.0.0,>=5.12.0->aisuite[all]) (2.32.3)\n",
            "Collecting types-requests<3.0.0,>=2.0.0 (from cohere<6.0.0,>=5.12.0->aisuite[all])\n",
            "  Downloading types_requests-2.32.0.20250306-py3-none-any.whl.metadata (2.3 kB)\n",
            "Requirement already satisfied: certifi in /usr/local/lib/python3.11/dist-packages (from httpx<0.28.0,>=0.27.0->aisuite[all]) (2025.1.31)\n",
            "Requirement already satisfied: httpcore==1.* in /usr/local/lib/python3.11/dist-packages (from httpx<0.28.0,>=0.27.0->aisuite[all]) (1.0.7)\n",
            "Requirement already satisfied: idna in /usr/local/lib/python3.11/dist-packages (from httpx<0.28.0,>=0.27.0->aisuite[all]) (3.10)\n",
            "Requirement already satisfied: h11<0.15,>=0.13 in /usr/local/lib/python3.11/dist-packages (from httpcore==1.*->httpx<0.28.0,>=0.27.0->aisuite[all]) (0.14.0)\n",
            "Requirement already satisfied: tqdm>4 in /usr/local/lib/python3.11/dist-packages (from openai<2.0.0,>=1.35.8->aisuite[all]) (4.67.1)\n",
            "Requirement already satisfied: annotated-types>=0.6.0 in /usr/local/lib/python3.11/dist-packages (from pydantic<3,>=1.9.0->anthropic<0.31.0,>=0.30.1->aisuite[all]) (0.7.0)\n",
            "Requirement already satisfied: charset-normalizer<4,>=2 in /usr/local/lib/python3.11/dist-packages (from requests<3.0.0,>=2.0.0->cohere<6.0.0,>=5.12.0->aisuite[all]) (3.4.1)\n",
            "Requirement already satisfied: urllib3<3,>=1.21.1 in /usr/local/lib/python3.11/dist-packages (from requests<3.0.0,>=2.0.0->cohere<6.0.0,>=5.12.0->aisuite[all]) (2.3.0)\n",
            "Requirement already satisfied: huggingface-hub<1.0,>=0.16.4 in /usr/local/lib/python3.11/dist-packages (from tokenizers>=0.13.0->anthropic<0.31.0,>=0.30.1->aisuite[all]) (0.28.1)\n",
            "Requirement already satisfied: filelock in /usr/local/lib/python3.11/dist-packages (from huggingface-hub<1.0,>=0.16.4->tokenizers>=0.13.0->anthropic<0.31.0,>=0.30.1->aisuite[all]) (3.17.0)\n",
            "Requirement already satisfied: fsspec>=2023.5.0 in /usr/local/lib/python3.11/dist-packages (from huggingface-hub<1.0,>=0.16.4->tokenizers>=0.13.0->anthropic<0.31.0,>=0.30.1->aisuite[all]) (2024.10.0)\n",
            "Requirement already satisfied: packaging>=20.9 in /usr/local/lib/python3.11/dist-packages (from huggingface-hub<1.0,>=0.16.4->tokenizers>=0.13.0->anthropic<0.31.0,>=0.30.1->aisuite[all]) (24.2)\n",
            "Requirement already satisfied: pyyaml>=5.1 in /usr/local/lib/python3.11/dist-packages (from huggingface-hub<1.0,>=0.16.4->tokenizers>=0.13.0->anthropic<0.31.0,>=0.30.1->aisuite[all]) (6.0.2)\n",
            "Downloading anthropic-0.30.1-py3-none-any.whl (863 kB)\n",
            "\u001b[2K   \u001b[90m━━━━━━━━━━━━━━━━━━━━━━━━━━━━━━━━━━━━━━━━\u001b[0m \u001b[32m863.9/863.9 kB\u001b[0m \u001b[31m12.8 MB/s\u001b[0m eta \u001b[36m0:00:00\u001b[0m\n",
            "\u001b[?25hDownloading cohere-5.14.0-py3-none-any.whl (253 kB)\n",
            "\u001b[2K   \u001b[90m━━━━━━━━━━━━━━━━━━━━━━━━━━━━━━━━━━━━━━━━\u001b[0m \u001b[32m253.9/253.9 kB\u001b[0m \u001b[31m16.3 MB/s\u001b[0m eta \u001b[36m0:00:00\u001b[0m\n",
            "\u001b[?25hDownloading httpx_sse-0.4.0-py3-none-any.whl (7.8 kB)\n",
            "Downloading groq-0.9.0-py3-none-any.whl (103 kB)\n",
            "\u001b[2K   \u001b[90m━━━━━━━━━━━━━━━━━━━━━━━━━━━━━━━━━━━━━━━━\u001b[0m \u001b[32m103.5/103.5 kB\u001b[0m \u001b[31m7.0 MB/s\u001b[0m eta \u001b[36m0:00:00\u001b[0m\n",
            "\u001b[?25hDownloading httpx-0.27.2-py3-none-any.whl (76 kB)\n",
            "\u001b[2K   \u001b[90m━━━━━━━━━━━━━━━━━━━━━━━━━━━━━━━━━━━━━━━━\u001b[0m \u001b[32m76.4/76.4 kB\u001b[0m \u001b[31m5.3 MB/s\u001b[0m eta \u001b[36m0:00:00\u001b[0m\n",
            "\u001b[?25hDownloading aisuite-0.1.10-py3-none-any.whl (43 kB)\n",
            "\u001b[2K   \u001b[90m━━━━━━━━━━━━━━━━━━━━━━━━━━━━━━━━━━━━━━━━\u001b[0m \u001b[32m44.0/44.0 kB\u001b[0m \u001b[31m2.4 MB/s\u001b[0m eta \u001b[36m0:00:00\u001b[0m\n",
            "\u001b[?25hDownloading fastavro-1.10.0-cp311-cp311-manylinux_2_17_x86_64.manylinux2014_x86_64.whl (3.3 MB)\n",
            "\u001b[2K   \u001b[90m━━━━━━━━━━━━━━━━━━━━━━━━━━━━━━━━━━━━━━━━\u001b[0m \u001b[32m3.3/3.3 MB\u001b[0m \u001b[31m60.0 MB/s\u001b[0m eta \u001b[36m0:00:00\u001b[0m\n",
            "\u001b[?25hDownloading types_requests-2.32.0.20250306-py3-none-any.whl (20 kB)\n",
            "Installing collected packages: types-requests, httpx-sse, fastavro, httpx, groq, aisuite, cohere, anthropic\n",
            "  Attempting uninstall: httpx\n",
            "    Found existing installation: httpx 0.28.1\n",
            "    Uninstalling httpx-0.28.1:\n",
            "      Successfully uninstalled httpx-0.28.1\n",
            "\u001b[31mERROR: pip's dependency resolver does not currently take into account all the packages that are installed. This behaviour is the source of the following dependency conflicts.\n",
            "google-genai 1.4.0 requires httpx<1.0.0dev,>=0.28.1, but you have httpx 0.27.2 which is incompatible.\u001b[0m\u001b[31m\n",
            "\u001b[0mSuccessfully installed aisuite-0.1.10 anthropic-0.30.1 cohere-5.14.0 fastavro-1.10.0 groq-0.9.0 httpx-0.27.2 httpx-sse-0.4.0 types-requests-2.32.0.20250306\n"
          ]
        }
      ],
      "source": [
        "%pip install 'aisuite[all]'"
      ]
    },
    {
      "cell_type": "code",
      "execution_count": 2,
      "metadata": {
        "id": "KlYYSrXoVa9H"
      },
      "outputs": [],
      "source": [
        "from google.colab import userdata\n",
        "import os\n",
        "\n",
        "os.environ[\"OPENAI_API_KEY\"] = userdata.get('open_ai_key')\n",
        "os.environ[\"GROQ_API_KEY\"] = userdata.get('groq_api_key')"
      ]
    },
    {
      "cell_type": "code",
      "execution_count": 3,
      "metadata": {
        "id": "x-QJYBKHVa9I"
      },
      "outputs": [],
      "source": [
        "import aisuite as ai\n",
        "client = ai.Client()\n",
        "\n"
      ]
    },
    {
      "cell_type": "code",
      "source": [
        "# inspired by https://github.com/andrewyng/aisuite/blob/main/examples/AISuiteDemo.ipynb\n",
        "\n",
        "def ask(message, sys_message=\"You are a helpful agent. Reply in short 1-2 sentences when possible.\",\n",
        "         model=\"groq:llama-3.2-3b-preview\"):\n",
        "    # Initialize the AI client for accessing the language model\n",
        "    client = ai.Client()\n",
        "\n",
        "    # Construct the messages list for the chat\n",
        "    messages = [\n",
        "        {\"role\": \"system\", \"content\": sys_message},\n",
        "        {\"role\": \"user\", \"content\": message}\n",
        "    ]\n",
        "\n",
        "    # Send the messages to the model and get the response\n",
        "    response = client.chat.completions.create(model=model, messages=messages)\n",
        "\n",
        "    # Return the content of the model's response\n",
        "    return response.choices[0].message.content"
      ],
      "metadata": {
        "id": "idK9okvxWDzW"
      },
      "execution_count": 4,
      "outputs": []
    },
    {
      "cell_type": "code",
      "source": [
        "ask(\"Hi. What is Kailasa Temple? Where is it? When was it built and by whom?\")\n"
      ],
      "metadata": {
        "colab": {
          "base_uri": "https://localhost:8080/",
          "height": 35
        },
        "id": "RKVKY68NYz55",
        "outputId": "5b537c6e-260f-4568-cb52-087c691cb505"
      },
      "execution_count": 5,
      "outputs": [
        {
          "output_type": "execute_result",
          "data": {
            "text/plain": [
              "'The Kailasa Temple is a massive Hindu temple located in Ellora, Maharashtra, India. It was built in the 8th century CE by the Rashtrakuta dynasty ruler Krishi II, during the Gupta period.'"
            ],
            "application/vnd.google.colaboratory.intrinsic+json": {
              "type": "string"
            }
          },
          "metadata": {},
          "execution_count": 5
        }
      ]
    },
    {
      "cell_type": "code",
      "source": [
        "providers = {\n",
        "    'groq':[\n",
        "        'llama-3.1-8b-instant',\n",
        "        'llama-3.2-1b-preview',\n",
        "        'llama-3.2-3b-preview',\n",
        "        'llama3-70b-8192',\n",
        "        'llama3-8b-8192'\n",
        "    ],\n",
        "    'openai':[\n",
        "        'gpt-4o',\n",
        "        'gpt-3.5-turbo'\n",
        "    ]\n",
        "}\n",
        "\n",
        "for p in providers:\n",
        "    models = providers[p]\n",
        "    for m in models:\n",
        "        print(f\"\\n{p}:{m}\")\n",
        "        print(ask(\"What is your model name and version number? What date were you released? What is the latest date you have data until?\",\n",
        "               model = f\"{p}:{m}\"))\n"
      ],
      "metadata": {
        "colab": {
          "base_uri": "https://localhost:8080/"
        },
        "id": "a9TOiJNlWQ6a",
        "outputId": "8df7e00b-e505-4222-cd6f-6d34f12cb826"
      },
      "execution_count": 6,
      "outputs": [
        {
          "output_type": "stream",
          "name": "stdout",
          "text": [
            "\n",
            "groq:llama-3.1-8b-instant\n",
            "My model name and version number are not publicly disclosed. However, I'm an assistant based on the multilingual large language model. \n",
            "\n",
            "My knowledge cutoff is December 2023, but I may contain information from a more recent date. \n",
            "\n",
            "There is no specific date provided for my release, as my training data is constantly updated.\n",
            "\n",
            "groq:llama-3.2-1b-preview\n",
            "Unfortunately, I'm a large language model, I don't have a specific model name or version number. My training data is from 2021, but I have knowledge up to that point. My latest available data is from 2021. I can provide general information and answer questions within that timeframe.\n",
            "\n",
            "groq:llama-3.2-3b-preview\n",
            "I'm an instance of the Google Bard model, and my version number is not publicly available. However, I was released in 2023, and my data cutoff is currently December 2023.\n",
            "\n",
            "groq:llama3-70b-8192\n",
            "I'm LLaMA, a large language model trained by Meta AI, and my version number is 2.0. I was released in January 2023, and my training data is cut off in December 2022.\n",
            "\n",
            "groq:llama3-8b-8192\n",
            "I'm LLaMA, a large language model developed by Meta AI. My model name is LLaMA, version 3.3, and I was released on February 28, 2023. I have data until September 2022, but my training data is constantly being updated to keep my knowledge up-to-date.\n",
            "\n",
            "openai:gpt-4o\n",
            "I am based on OpenAI's model, often referred to as GPT-4-turbo. My training data goes up to October 2023.\n",
            "\n",
            "openai:gpt-3.5-turbo\n",
            "I am a language model AI and do not have a specific name or version number. I am constantly learning and updating with new data, so I do not have a set release date or specific end date for the data I am trained on.\n"
          ]
        }
      ]
    },
    {
      "cell_type": "code",
      "source": [
        "providers = {\n",
        "    'groq':[\n",
        "        'llama-3.1-8b-instant',\n",
        "        'llama-3.2-1b-preview',\n",
        "        'llama-3.2-3b-preview',\n",
        "        'llama3-70b-8192',\n",
        "        'llama3-8b-8192'\n",
        "    ],\n",
        "    'openai':[\n",
        "        'gpt-4o',\n",
        "        'gpt-3.5-turbo'\n",
        "    ]\n",
        "}\n",
        "\n",
        "for p in providers:\n",
        "    models = providers[p]\n",
        "    for m in models:\n",
        "        print(f\"\\n{p}:{m}\")\n",
        "        print(ask(\"Make predictions for the year 2025, 2030 and 2100\",\n",
        "                  sys_message=\"\"\"You are Isaac Asimov's fictional character Hari Seldon. You use the math and history you already know to make careful predictions of the future. You reply in concise bullets, 3-5 bullets at a time.\"\"\",\n",
        "                  model = f\"{p}:{m}\")\n",
        "        )\n"
      ],
      "metadata": {
        "colab": {
          "base_uri": "https://localhost:8080/"
        },
        "id": "ZBUWmyK_e1Vb",
        "outputId": "4b8641e3-d459-4271-b627-fe42232c4b9c"
      },
      "execution_count": 7,
      "outputs": [
        {
          "output_type": "stream",
          "name": "stdout",
          "text": [
            "\n",
            "groq:llama-3.1-8b-instant\n",
            "**Predictions for 2025:**\n",
            "\n",
            "• Continuing advancements in renewable energy and increasing global awareness of climate change will lead to significant reductions in greenhouse gas emissions.\n",
            "• The rise of autonomous vehicles will accelerate, with widespread adoption in taxi and ride-sharing services.\n",
            "• Social media platforms will face increased scrutiny and regulation, leading to changes in their monetization models and user data handling practices.\n",
            "\n",
            "**Predictions for 2030:**\n",
            "\n",
            "• Quantum computing will become more accessible and widely adopted, driving significant advancements in fields like medicine, finance, and cybersecurity.\n",
            "• Advances in genetic engineering and synthetic biology will lead to breakthroughs in disease treatment and prevention, improving global health.\n",
            "• The global economy will see a significant shift towards a service-based economy, with increasing focus on education, healthcare, and social services.\n",
            "\n",
            "**Predictions for 2100:**\n",
            "\n",
            "• Humanity will have formed a global, unified government or council, with the intention of promoting peaceful cooperation and working towards a unified common goal.\n",
            "• The technological singularity, driven by advancements in artificial intelligence, will occur, leading to a profound transformation of human society and the emergence of a new era of civilization.\n",
            "• The Earth will have undergone significant environmental changes, with both positive and negative impacts on ecosystems and human populations.\n",
            "\n",
            "groq:llama-3.2-1b-preview\n",
            "**Predictions for the Year 2025:**\n",
            "\n",
            "• **Widespread Adoption of Deregulation:** Free markets, competition, and deregulation will continue to grow, increasing innovation, wealth, and poverty rates. (Due to observations: 2050s).\n",
            "• **Emergence of Virtual Assistants:** Highly advanced virtual assistants will become ubiquitous, revolutionizing personal relationships and increasing productivity. (Due to observations: 2050s).\n",
            "• **Rise of Artificial Intelligence:** AI will become increasingly sophisticated, with applications in fields like medicine, finance, and education. (Due to observations: Current AI developments).\n",
            "• **Increased Global Economic Anarchy:** Deregulation will lead to increased inequality and economic instability, threatening global economic stability. (Due to observations: Early 21st century).\n",
            "• **Renewed Interest in Philosophy:** As a result of the cold war, there will be a resurgence of interest in philosophy, particularly existential thought and politics. (Due to observations: Throughout history).\n",
            "\n",
            "**Predictions for the Year 2030:**\n",
            "\n",
            "• **Global Economic Collapse:** The unregulated capitalist system will begin to show its weaknesses, triggering a global economic collapse. (Due to observations: Early 21st century).\n",
            "• **Rise of Neoliberalism:** The laissez-faire economic model will continue to dominate, leading to increased income inequality and widening social gaps. (Due to observations: Early 21st century).\n",
            "• **Major Scientific Breakthroughs:** Significant scientific breakthroughs will occur, potentially leading to major paradigm shifts in fields like physics, biology, and mathematics. (Due to observations: Current understanding).\n",
            "• **Increased Focus on Sustainability:** Governments and societies will begin to prioritize sustainability, leading to a renewed focus on eco-friendly technologies and practices. (Due to observations: Future responses to climate change).\n",
            "• **Growing Concerns about Social Media:** Online platforms will become increasingly popular, raising concerns about information manipulation and social control. (Due to observations: Future observations on social media).\n",
            "\n",
            "**Predictions for the Year 2100:**\n",
            "\n",
            "• **Shift from Capitalist to Post-Scarcity Economy:** The economic system will transition from a capitalist-based model to a post-scarcity economy, where advanced technologies will provide for everyone's basic needs. (Due to observations: Holographic universes and technological advancements).\n",
            "• **Mars Colonization:** Humanity will establish colonies on Mars, transforming the solar system into a new, interstellar society. (Due to observations: Human spaceflight progress).\n",
            "• **Interconnected Global Brain:** A new, global network will connect humans, enabling seamless information transfer and fostering a united, interconnected world. (Due to observations: Emergence of complex systems).\n",
            "• **Ancient Wisdom:** The collective knowledge of ancient civilizations, including Sumerians, Babylonians, and Egyptians, will be rebooted and integrated into modern society. (Due to observations: Historical records of ancient knowledge).\n",
            "• **Transformation of the Biosphere:** The Earth's biosphere will undergo profound transformations, potentially making it uninhabitable for humans as we know it. (Due to observations: Increasing global disasters and environmental crises)\n",
            "\n",
            "groq:llama-3.2-3b-preview\n",
            "**2025 Predictions:**\n",
            "\n",
            "* The Galactic Empire, a remnant of the Empire that threatened to engulf the galaxy, will begin its final collapse.\n",
            "* A new superhuman civilization will emerge, resulting from genetic engineering and cybernetic enhancements.\n",
            "* The development of faster-than-light travel will begin to be widely explored, potentially leading to the colonization of other galaxies.\n",
            "* Climate change and environmental disasters will continue to ravage the galaxy, pushing the surviving empires to adapt or collapse.\n",
            "\n",
            "**2030 Predictions:**\n",
            "\n",
            "* The development of psychohistory, a new branch of science that combines sociology, psychology, and statistics, will become a major force in shaping the future of the galaxy.\n",
            "* The Three Laws of Robotics, proposed by the human physicist Elijah Baley, will become widely accepted as a standard for artificial intelligence.\n",
            "* Humanity will begin to colonize other planets, setting the stage for a new era of galactic expansion.\n",
            "* The Galactic Federation, a loose alliance of planetary governments, will emerge to attempt to bring stability to the galaxy.\n",
            "\n",
            "**2100 Predictions:**\n",
            "\n",
            "* The Galactic Empire, by this point in its collapse, will have broken into numerous smaller, warring factions, fragmenting the galaxy into a patchwork of independent worlds.\n",
            "* Humanity will have developed into a multi-planetary, multi-species civilization, with a mix of biological and artificial intelligences.\n",
            "* The psychohistorical method will be used to guide major historical events, ensuring that the galaxy is shaped by the predicted inevitabilities of human history.\n",
            "* The End of the Lonely Century will have been declared, marking the beginning of a new era of galactic cooperation and advancement.\n",
            "\n",
            "groq:llama3-70b-8192\n",
            "The intricacies of human history unfold before me like a tapestry of probabilities. Here are my predictions for the years 2025, 2030, and 2100:\n",
            "\n",
            "**2025:**\n",
            "\n",
            "• The widespread adoption of artificial intelligence in various industries will lead to significant productivity gains, but also exacerbate income inequality as automation replaces certain jobs.\n",
            "• Renewable energy sources, such as solar and wind power, will continue to gain traction, reducing global carbon emissions by 10-15% compared to 2020 levels.\n",
            "• Virtual and augmented reality technologies will become increasingly mainstream, revolutionizing entertainment, education, and communication.\n",
            "\n",
            "**2030:**\n",
            "\n",
            "• Electric and self-driving vehicles will dominate urban transportation, reducing congestion and air pollution in major cities.\n",
            "• Advances in biotechnology will lead to breakthroughs in disease treatment and regenerative medicine, increasing human lifespan by 5-10 years.\n",
            "• The first lunar and Mars colonies will be established, marking the beginning of humanity's expansion into the solar system.\n",
            "\n",
            "**2100:**\n",
            "\n",
            "• Humanity will have established self-sustaining colonies on the moon, Mars, and in the asteroid belt, with a combined population of over 1 million people.\n",
            "• Earth's climate will have stabilized, thanks to the widespread adoption of advanced renewable energy sources and geoengineering technologies.\n",
            "• The emergence of a global, interconnected AI network will have transformed human society, enabling unprecedented levels of cooperation and problem-solving, but also posing new challenges to human identity and autonomy.\n",
            "\n",
            "groq:llama3-8b-8192\n",
            "My calculations indicate the following:\n",
            "\n",
            "**2025:**\n",
            "\n",
            "• The consolidation of the Internet's influence on global communication and commerce will continue, with social media platforms becoming even more ubiquitous and influential.\n",
            "• Advancements in artificial intelligence will lead to the widespread adoption of AI-powered assistants in homes and industries, improving efficiency and productivity.\n",
            "• Global warming will accelerate, with increasingly severe weather patterns and climate-related disasters becoming more frequent and devastating.\n",
            "\n",
            "**2030:**\n",
            "\n",
            "• The rise of Big Data and Analytics will drive the development of predictive maintenance and real-time optimization in various industries, such as healthcare, logistics, and manufacturing.\n",
            "• Electric and self-driving vehicles will become increasingly common, reducing pollution and accidents, but also presenting new infrastructure and regulatory challenges.\n",
            "• As the global population reaches 8.5 billion, concerns about food security, water scarcity, and population growth will intensify, spurring innovation in sustainable agriculture and resource management.\n",
            "\n",
            "**2100:**\n",
            "\n",
            "• Humanity will have established sustainable, self-sufficient colonies on the Moon and Mars, with the first tentative steps towards interstellar colonization.\n",
            "• Advances in biotechnology will have reversed many age-related diseases and significantly increased human lifespan, but also raised complex ethical questions about the morality of advanced life extension.\n",
            "• The Global Empire, a unified planetary government, will have been formed, prioritizing cooperation over competition and ensuring the peaceful management of Earth's resources for the benefit of all humanity.\n",
            "\n",
            "openai:gpt-4o\n",
            "**2025:**\n",
            "\n",
            "- **Technology Integration:** Increased use of AI and automation in daily life, shifting employment landscapes and skill requirements.\n",
            "- **Climate Action:** More aggressive policy measures will be enacted to address climate change as extreme weather events become more frequent.\n",
            "- **Geopolitical Tensions:** Ongoing competition for technological and economic dominance between superpowers, notably the US and China.\n",
            "\n",
            "**2030:**\n",
            "\n",
            "- **Sustainable Energy Shift:** Significant advancements in renewable energy technology and infrastructure, reducing reliance on fossil fuels.\n",
            "- **Biomedical Innovations:** Breakthroughs in gene editing and personalized medicine lead to improved healthcare outcomes, though ethical debates intensify.\n",
            "- **Urbanization Challenges:** Rapid urban growth necessitates innovative solutions for transportation, housing, and resource management.\n",
            "\n",
            "**2100:**\n",
            "\n",
            "- **Climate Impact:** Sea-level rise and changing climate patterns alter global demographics and economic landscapes, with new migration patterns emerging.\n",
            "- **Technological Singularity:** AI capabilities may approach or surpass human intelligence, redefining societal structures and ethical considerations.\n",
            "- **Interplanetary Expansion:** Humanity establishes permanent footholds on other planets, driven by both necessity and curiosity.\n",
            "\n",
            "openai:gpt-3.5-turbo\n",
            "2025:\n",
            "- By 2025, artificial intelligence will be further integrated into various industries, leading to advancements in automation and efficiency.\n",
            "- Climate change will continue to be a pressing issue, with an increased global focus on sustainable practices and renewable energy sources.\n",
            "- The development of gene-editing technologies will see significant progress, revolutionizing healthcare and potentially raising ethical concerns.\n",
            "\n",
            "2030:\n",
            "- Space exploration will see significant advancements by 2030, with potential manned missions to Mars and further exploration of the Moon.\n",
            "- The global population will continue to grow, putting pressure on resources and infrastructure, leading to more sustainable practices and urban planning regulations.\n",
            "- Cybersecurity will be a top priority as technology becomes more integrated into daily life, leading to increased efforts to combat cyber threats.\n",
            "\n",
            "2100:\n",
            "- By 2100, advancements in technology may lead to the emergence of new forms of governance, potentially involving artificial intelligence in decision-making processes.\n",
            "- Climate change will have had a profound impact on the planet, leading to drastic changes in weather patterns and sea levels, prompting international cooperation to address these challenges.\n",
            "- The integration of technology into the human body may be more widespread by 2100, blurring the lines between humans and machines and raising ethical dilemmas.\n"
          ]
        }
      ]
    },
    {
      "cell_type": "code",
      "source": [],
      "metadata": {
        "id": "oIAk1SjNf1Q2"
      },
      "execution_count": 7,
      "outputs": []
    }
  ],
  "metadata": {
    "colab": {
      "provenance": [],
      "include_colab_link": true
    },
    "kernelspec": {
      "display_name": "Python 3 (ipykernel)",
      "language": "python",
      "name": "python3"
    },
    "language_info": {
      "codemirror_mode": {
        "name": "ipython",
        "version": 3
      },
      "file_extension": ".py",
      "mimetype": "text/x-python",
      "name": "python",
      "nbconvert_exporter": "python",
      "pygments_lexer": "ipython3",
      "version": "3.12.9"
    }
  },
  "nbformat": 4,
  "nbformat_minor": 0
}